{
 "cells": [
  {
   "cell_type": "code",
   "execution_count": 1,
   "metadata": {
    "scrolled": true
   },
   "outputs": [],
   "source": [
    "# Imports\n",
    "import os\n",
    "import subprocess\n",
    "import stat\n",
    "import numpy as np\n",
    "import pandas as pd\n",
    "import seaborn as sns\n",
    "import matplotlib.pyplot as plt\n",
    "from datetime import datetime\n",
    "sns.set(style = \"white\")\n",
    "%matplotlib inline"
   ]
  },
  {
   "cell_type": "code",
   "execution_count": 2,
   "metadata": {},
   "outputs": [],
   "source": [
    "# Dataset\n",
    "clean_data_path = \"dataset/autos.csv\"\n",
    "ofertas_carros = pd.read_csv(clean_data_path,encoding = \"latin-1\")"
   ]
  },
  {
   "cell_type": "code",
   "execution_count": 3,
   "metadata": {},
   "outputs": [
    {
     "name": "stdout",
     "output_type": "stream",
     "text": [
      "0                                    Golf_3_1.6\n",
      "1                          A5_Sportback_2.7_Tdi\n",
      "2                Jeep_Grand_Cherokee_\"Overland\"\n",
      "3                           GOLF_4_1_4__3TÃRER\n",
      "4                Skoda_Fabia_1.4_TDI_PD_Classic\n",
      "                          ...                  \n",
      "313682                          Mitsubishi_Cold\n",
      "313683               Suche_t4___vito_ab_6_sitze\n",
      "313684    Smart_smart_leistungssteigerung_100ps\n",
      "313685       Volkswagen_Multivan_T4_TDI_7DC_UY2\n",
      "313686                   VW_Golf_Kombi_1_9l_TDI\n",
      "Name: name, Length: 313687, dtype: object\n"
     ]
    }
   ],
   "source": [
    "print(ofertas_carros['name'])"
   ]
  }
 ],
 "metadata": {
  "kernelspec": {
   "display_name": "Python 3",
   "language": "python",
   "name": "python3"
  },
  "language_info": {
   "codemirror_mode": {
    "name": "ipython",
    "version": 3
   },
   "file_extension": ".py",
   "mimetype": "text/x-python",
   "name": "python",
   "nbconvert_exporter": "python",
   "pygments_lexer": "ipython3",
   "version": "3.8.5"
  }
 },
 "nbformat": 4,
 "nbformat_minor": 4
}
